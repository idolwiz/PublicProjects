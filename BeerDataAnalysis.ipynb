{
 "cells": [
  {
   "cell_type": "markdown",
   "id": "4b533b3f-e65e-45e9-89a1-47f3cb4b34e1",
   "metadata": {},
   "source": [
    "# Beer Data Analysis\n",
    "\n",
    "## This project is about analysis about different types of beer, the dataset came from StrataScratch along with the questions\n",
    "### Questions\n",
    "\n",
    "<p>In this assignment you will work with a beer data set. Please provide an answer to the questions below. Answer as many questions as possible:\n",
    "\n",
    "1. Rank the top 3 breweries which produce the strongest beers.\n",
    "2. Which year did beers enjoy the highest ratings?\n",
    "3. Based on the users' ratings, which factors are important among taste, aroma, appearance, and palette?\n",
    "4. If you were to recommend 3 beers to your friends based on this data, which ones would you recommend?\n",
    "5. Which beer style seems to be the favourite based on the reviews written by users? How does written reviews compare to overall review score for the beer style?\n",
    "</p>\n"
   ]
  },
  {
   "cell_type": "code",
   "execution_count": 1,
   "id": "8b461ad9-0a25-41ee-9615-f6c76ebd73a0",
   "metadata": {},
   "outputs": [],
   "source": [
    "#Importing Packages\n",
    "import matplotlib as mpl\n",
    "import matplotlib.pyplot as plt \n",
    "%matplotlib inline\n",
    "import numpy as np\n",
    "import seaborn as sns\n",
    "import pandas as pd\n",
    "import statsmodels.api as sm\n",
    "sns.set_style(\"darkgrid\")"
   ]
  },
  {
   "cell_type": "code",
   "execution_count": 2,
   "id": "25802018-007f-4c31-a720-603197d420d2",
   "metadata": {},
   "outputs": [],
   "source": [
    "# Reading in data\n",
    "df = pd.read_csv(\"BeerDataScienceProject.tar.bz2\", compression=\"bz2\")"
   ]
  },
  {
   "cell_type": "code",
   "execution_count": 27,
   "id": "b81894f6-b7c3-42b5-8124-5803ef0c6bda",
   "metadata": {},
   "outputs": [
    {
     "name": "stdout",
     "output_type": "stream",
     "text": [
      "<class 'pandas.core.frame.DataFrame'>\n",
      "RangeIndex: 528870 entries, 0 to 528869\n",
      "Data columns (total 13 columns):\n",
      " #   Column              Non-Null Count   Dtype  \n",
      "---  ------              --------------   -----  \n",
      " 0   beer_ABV            508590 non-null  float64\n",
      " 1   beer_beerId         528870 non-null  int64  \n",
      " 2   beer_brewerId       528870 non-null  int64  \n",
      " 3   beer_name           528870 non-null  object \n",
      " 4   beer_style          528870 non-null  object \n",
      " 5   review_appearance   528870 non-null  float64\n",
      " 6   review_palette      528870 non-null  float64\n",
      " 7   review_overall      528870 non-null  float64\n",
      " 8   review_taste        528870 non-null  float64\n",
      " 9   review_profileName  528755 non-null  object \n",
      " 10  review_aroma        528870 non-null  float64\n",
      " 11  review_text         528751 non-null  object \n",
      " 12  review_time         528870 non-null  int64  \n",
      "dtypes: float64(6), int64(3), object(4)\n",
      "memory usage: 52.5+ MB\n"
     ]
    },
    {
     "data": {
      "text/html": [
       "<div>\n",
       "<style scoped>\n",
       "    .dataframe tbody tr th:only-of-type {\n",
       "        vertical-align: middle;\n",
       "    }\n",
       "\n",
       "    .dataframe tbody tr th {\n",
       "        vertical-align: top;\n",
       "    }\n",
       "\n",
       "    .dataframe thead th {\n",
       "        text-align: right;\n",
       "    }\n",
       "</style>\n",
       "<table border=\"1\" class=\"dataframe\">\n",
       "  <thead>\n",
       "    <tr style=\"text-align: right;\">\n",
       "      <th></th>\n",
       "      <th>beer_ABV</th>\n",
       "      <th>beer_beerId</th>\n",
       "      <th>beer_brewerId</th>\n",
       "      <th>review_appearance</th>\n",
       "      <th>review_palette</th>\n",
       "      <th>review_overall</th>\n",
       "      <th>review_taste</th>\n",
       "      <th>review_aroma</th>\n",
       "      <th>review_time</th>\n",
       "    </tr>\n",
       "  </thead>\n",
       "  <tbody>\n",
       "    <tr>\n",
       "      <th>count</th>\n",
       "      <td>508590.000000</td>\n",
       "      <td>528870.000000</td>\n",
       "      <td>528870.000000</td>\n",
       "      <td>528870.000000</td>\n",
       "      <td>528870.000000</td>\n",
       "      <td>528870.000000</td>\n",
       "      <td>528870.000000</td>\n",
       "      <td>528870.000000</td>\n",
       "      <td>5.288700e+05</td>\n",
       "    </tr>\n",
       "    <tr>\n",
       "      <th>mean</th>\n",
       "      <td>7.017442</td>\n",
       "      <td>22098.466016</td>\n",
       "      <td>2598.423429</td>\n",
       "      <td>3.864522</td>\n",
       "      <td>3.758926</td>\n",
       "      <td>3.833197</td>\n",
       "      <td>3.765993</td>\n",
       "      <td>3.817350</td>\n",
       "      <td>1.224885e+09</td>\n",
       "    </tr>\n",
       "    <tr>\n",
       "      <th>std</th>\n",
       "      <td>2.204460</td>\n",
       "      <td>22158.284352</td>\n",
       "      <td>5281.805350</td>\n",
       "      <td>0.604010</td>\n",
       "      <td>0.685335</td>\n",
       "      <td>0.709962</td>\n",
       "      <td>0.669018</td>\n",
       "      <td>0.718903</td>\n",
       "      <td>7.605600e+07</td>\n",
       "    </tr>\n",
       "    <tr>\n",
       "      <th>min</th>\n",
       "      <td>0.010000</td>\n",
       "      <td>3.000000</td>\n",
       "      <td>1.000000</td>\n",
       "      <td>0.000000</td>\n",
       "      <td>1.000000</td>\n",
       "      <td>0.000000</td>\n",
       "      <td>1.000000</td>\n",
       "      <td>1.000000</td>\n",
       "      <td>8.843904e+08</td>\n",
       "    </tr>\n",
       "    <tr>\n",
       "      <th>25%</th>\n",
       "      <td>5.300000</td>\n",
       "      <td>1745.000000</td>\n",
       "      <td>132.000000</td>\n",
       "      <td>3.500000</td>\n",
       "      <td>3.500000</td>\n",
       "      <td>3.500000</td>\n",
       "      <td>3.500000</td>\n",
       "      <td>3.500000</td>\n",
       "      <td>1.174613e+09</td>\n",
       "    </tr>\n",
       "    <tr>\n",
       "      <th>50%</th>\n",
       "      <td>6.500000</td>\n",
       "      <td>14368.000000</td>\n",
       "      <td>394.000000</td>\n",
       "      <td>4.000000</td>\n",
       "      <td>4.000000</td>\n",
       "      <td>4.000000</td>\n",
       "      <td>4.000000</td>\n",
       "      <td>4.000000</td>\n",
       "      <td>1.240366e+09</td>\n",
       "    </tr>\n",
       "    <tr>\n",
       "      <th>75%</th>\n",
       "      <td>8.500000</td>\n",
       "      <td>40528.000000</td>\n",
       "      <td>1475.000000</td>\n",
       "      <td>4.000000</td>\n",
       "      <td>4.000000</td>\n",
       "      <td>4.500000</td>\n",
       "      <td>4.000000</td>\n",
       "      <td>4.500000</td>\n",
       "      <td>1.288560e+09</td>\n",
       "    </tr>\n",
       "    <tr>\n",
       "      <th>max</th>\n",
       "      <td>57.700000</td>\n",
       "      <td>77310.000000</td>\n",
       "      <td>27980.000000</td>\n",
       "      <td>5.000000</td>\n",
       "      <td>5.000000</td>\n",
       "      <td>5.000000</td>\n",
       "      <td>5.000000</td>\n",
       "      <td>5.000000</td>\n",
       "      <td>1.326277e+09</td>\n",
       "    </tr>\n",
       "  </tbody>\n",
       "</table>\n",
       "</div>"
      ],
      "text/plain": [
       "            beer_ABV    beer_beerId  beer_brewerId  review_appearance  \\\n",
       "count  508590.000000  528870.000000  528870.000000      528870.000000   \n",
       "mean        7.017442   22098.466016    2598.423429           3.864522   \n",
       "std         2.204460   22158.284352    5281.805350           0.604010   \n",
       "min         0.010000       3.000000       1.000000           0.000000   \n",
       "25%         5.300000    1745.000000     132.000000           3.500000   \n",
       "50%         6.500000   14368.000000     394.000000           4.000000   \n",
       "75%         8.500000   40528.000000    1475.000000           4.000000   \n",
       "max        57.700000   77310.000000   27980.000000           5.000000   \n",
       "\n",
       "       review_palette  review_overall   review_taste   review_aroma  \\\n",
       "count   528870.000000   528870.000000  528870.000000  528870.000000   \n",
       "mean         3.758926        3.833197       3.765993       3.817350   \n",
       "std          0.685335        0.709962       0.669018       0.718903   \n",
       "min          1.000000        0.000000       1.000000       1.000000   \n",
       "25%          3.500000        3.500000       3.500000       3.500000   \n",
       "50%          4.000000        4.000000       4.000000       4.000000   \n",
       "75%          4.000000        4.500000       4.000000       4.500000   \n",
       "max          5.000000        5.000000       5.000000       5.000000   \n",
       "\n",
       "        review_time  \n",
       "count  5.288700e+05  \n",
       "mean   1.224885e+09  \n",
       "std    7.605600e+07  \n",
       "min    8.843904e+08  \n",
       "25%    1.174613e+09  \n",
       "50%    1.240366e+09  \n",
       "75%    1.288560e+09  \n",
       "max    1.326277e+09  "
      ]
     },
     "execution_count": 27,
     "metadata": {},
     "output_type": "execute_result"
    }
   ],
   "source": [
    "# First look at stats of data\n",
    "df.info()\n",
    "df.describe()"
   ]
  },
  {
   "cell_type": "code",
   "execution_count": 15,
   "id": "8b208a4c-5eea-4fbc-a925-ce7dda4f23a8",
   "metadata": {},
   "outputs": [
    {
     "data": {
      "text/plain": [
       "beer_ABV              0\n",
       "beer_beerId           0\n",
       "beer_brewerId         0\n",
       "beer_name             0\n",
       "beer_style            0\n",
       "review_appearance     0\n",
       "review_palette        0\n",
       "review_overall        0\n",
       "review_taste          0\n",
       "review_profileName    0\n",
       "review_aroma          0\n",
       "review_text           0\n",
       "review_time           0\n",
       "dtype: int64"
      ]
     },
     "execution_count": 15,
     "metadata": {},
     "output_type": "execute_result"
    }
   ],
   "source": [
    "#Checking Null values\n",
    "df.isnull().sum()"
   ]
  },
  {
   "cell_type": "code",
   "execution_count": 3,
   "id": "85937134-e17c-4fa8-8301-28a5c1ed9cf5",
   "metadata": {},
   "outputs": [
    {
     "data": {
      "text/plain": [
       "(508358, 13)"
      ]
     },
     "execution_count": 3,
     "metadata": {},
     "output_type": "execute_result"
    }
   ],
   "source": [
    "# Large amount of null values, best case would be to get rid of them\n",
    "df = df.dropna()\n",
    "df.shape"
   ]
  },
  {
   "cell_type": "markdown",
   "id": "b6a5f418-31d9-42b8-ab60-ffeb376260ee",
   "metadata": {},
   "source": [
    "<p>There are 0s for min of review appearance and review overall. Those could be real or just mistakes. To be safe, those records will be changed to 1. As 1 is the minimum for the other review categories </p>"
   ]
  },
  {
   "cell_type": "code",
   "execution_count": 4,
   "id": "fa2774e9-f379-4fb2-9d0d-8a2c7276b596",
   "metadata": {},
   "outputs": [],
   "source": [
    "df['review_appearance'] = df['review_appearance'].replace(0, 1)\n",
    "df['review_overall'] = df['review_overall'].replace(0, 1)"
   ]
  },
  {
   "cell_type": "code",
   "execution_count": 38,
   "id": "b9872a0f-d678-4f68-8fa1-8454512b7d25",
   "metadata": {},
   "outputs": [
    {
     "data": {
      "text/html": [
       "<div>\n",
       "<style scoped>\n",
       "    .dataframe tbody tr th:only-of-type {\n",
       "        vertical-align: middle;\n",
       "    }\n",
       "\n",
       "    .dataframe tbody tr th {\n",
       "        vertical-align: top;\n",
       "    }\n",
       "\n",
       "    .dataframe thead th {\n",
       "        text-align: right;\n",
       "    }\n",
       "</style>\n",
       "<table border=\"1\" class=\"dataframe\">\n",
       "  <thead>\n",
       "    <tr style=\"text-align: right;\">\n",
       "      <th></th>\n",
       "      <th>beer_ABV</th>\n",
       "      <th>beer_beerId</th>\n",
       "      <th>beer_brewerId</th>\n",
       "      <th>review_appearance</th>\n",
       "      <th>review_palette</th>\n",
       "      <th>review_overall</th>\n",
       "      <th>review_taste</th>\n",
       "      <th>review_aroma</th>\n",
       "      <th>review_time</th>\n",
       "      <th>year</th>\n",
       "    </tr>\n",
       "  </thead>\n",
       "  <tbody>\n",
       "    <tr>\n",
       "      <th>count</th>\n",
       "      <td>508358.000000</td>\n",
       "      <td>508358.000000</td>\n",
       "      <td>508358.000000</td>\n",
       "      <td>508358.000000</td>\n",
       "      <td>508358.000000</td>\n",
       "      <td>508358.000000</td>\n",
       "      <td>508358.000000</td>\n",
       "      <td>508358.000000</td>\n",
       "      <td>508358</td>\n",
       "      <td>508358.000000</td>\n",
       "    </tr>\n",
       "    <tr>\n",
       "      <th>mean</th>\n",
       "      <td>7.017400</td>\n",
       "      <td>21824.120840</td>\n",
       "      <td>2534.273207</td>\n",
       "      <td>3.872682</td>\n",
       "      <td>3.768993</td>\n",
       "      <td>3.840811</td>\n",
       "      <td>3.775327</td>\n",
       "      <td>3.827646</td>\n",
       "      <td>2008-11-08 20:13:05.768663040</td>\n",
       "      <td>2008.348424</td>\n",
       "    </tr>\n",
       "    <tr>\n",
       "      <th>min</th>\n",
       "      <td>0.010000</td>\n",
       "      <td>5.000000</td>\n",
       "      <td>1.000000</td>\n",
       "      <td>1.000000</td>\n",
       "      <td>1.000000</td>\n",
       "      <td>1.000000</td>\n",
       "      <td>1.000000</td>\n",
       "      <td>1.000000</td>\n",
       "      <td>1998-01-10 00:00:01</td>\n",
       "      <td>1998.000000</td>\n",
       "    </tr>\n",
       "    <tr>\n",
       "      <th>25%</th>\n",
       "      <td>5.300000</td>\n",
       "      <td>1673.000000</td>\n",
       "      <td>132.000000</td>\n",
       "      <td>3.500000</td>\n",
       "      <td>3.500000</td>\n",
       "      <td>3.500000</td>\n",
       "      <td>3.500000</td>\n",
       "      <td>3.500000</td>\n",
       "      <td>2007-04-22 00:30:13.750000128</td>\n",
       "      <td>2007.000000</td>\n",
       "    </tr>\n",
       "    <tr>\n",
       "      <th>50%</th>\n",
       "      <td>6.500000</td>\n",
       "      <td>13850.000000</td>\n",
       "      <td>392.000000</td>\n",
       "      <td>4.000000</td>\n",
       "      <td>4.000000</td>\n",
       "      <td>4.000000</td>\n",
       "      <td>4.000000</td>\n",
       "      <td>4.000000</td>\n",
       "      <td>2009-05-05 06:02:55</td>\n",
       "      <td>2009.000000</td>\n",
       "    </tr>\n",
       "    <tr>\n",
       "      <th>75%</th>\n",
       "      <td>8.500000</td>\n",
       "      <td>40418.000000</td>\n",
       "      <td>1315.000000</td>\n",
       "      <td>4.000000</td>\n",
       "      <td>4.000000</td>\n",
       "      <td>4.500000</td>\n",
       "      <td>4.000000</td>\n",
       "      <td>4.500000</td>\n",
       "      <td>2010-11-06 19:54:19.750000128</td>\n",
       "      <td>2010.000000</td>\n",
       "    </tr>\n",
       "    <tr>\n",
       "      <th>max</th>\n",
       "      <td>57.700000</td>\n",
       "      <td>77310.000000</td>\n",
       "      <td>27980.000000</td>\n",
       "      <td>5.000000</td>\n",
       "      <td>5.000000</td>\n",
       "      <td>5.000000</td>\n",
       "      <td>5.000000</td>\n",
       "      <td>5.000000</td>\n",
       "      <td>2012-01-11 10:10:56</td>\n",
       "      <td>2012.000000</td>\n",
       "    </tr>\n",
       "    <tr>\n",
       "      <th>std</th>\n",
       "      <td>2.204528</td>\n",
       "      <td>22124.969107</td>\n",
       "      <td>5237.843825</td>\n",
       "      <td>0.601731</td>\n",
       "      <td>0.682355</td>\n",
       "      <td>0.706380</td>\n",
       "      <td>0.665586</td>\n",
       "      <td>0.715121</td>\n",
       "      <td>NaN</td>\n",
       "      <td>2.386048</td>\n",
       "    </tr>\n",
       "  </tbody>\n",
       "</table>\n",
       "</div>"
      ],
      "text/plain": [
       "            beer_ABV    beer_beerId  beer_brewerId  review_appearance  \\\n",
       "count  508358.000000  508358.000000  508358.000000      508358.000000   \n",
       "mean        7.017400   21824.120840    2534.273207           3.872682   \n",
       "min         0.010000       5.000000       1.000000           1.000000   \n",
       "25%         5.300000    1673.000000     132.000000           3.500000   \n",
       "50%         6.500000   13850.000000     392.000000           4.000000   \n",
       "75%         8.500000   40418.000000    1315.000000           4.000000   \n",
       "max        57.700000   77310.000000   27980.000000           5.000000   \n",
       "std         2.204528   22124.969107    5237.843825           0.601731   \n",
       "\n",
       "       review_palette  review_overall   review_taste   review_aroma  \\\n",
       "count   508358.000000   508358.000000  508358.000000  508358.000000   \n",
       "mean         3.768993        3.840811       3.775327       3.827646   \n",
       "min          1.000000        1.000000       1.000000       1.000000   \n",
       "25%          3.500000        3.500000       3.500000       3.500000   \n",
       "50%          4.000000        4.000000       4.000000       4.000000   \n",
       "75%          4.000000        4.500000       4.000000       4.500000   \n",
       "max          5.000000        5.000000       5.000000       5.000000   \n",
       "std          0.682355        0.706380       0.665586       0.715121   \n",
       "\n",
       "                         review_time           year  \n",
       "count                         508358  508358.000000  \n",
       "mean   2008-11-08 20:13:05.768663040    2008.348424  \n",
       "min              1998-01-10 00:00:01    1998.000000  \n",
       "25%    2007-04-22 00:30:13.750000128    2007.000000  \n",
       "50%              2009-05-05 06:02:55    2009.000000  \n",
       "75%    2010-11-06 19:54:19.750000128    2010.000000  \n",
       "max              2012-01-11 10:10:56    2012.000000  \n",
       "std                              NaN       2.386048  "
      ]
     },
     "execution_count": 38,
     "metadata": {},
     "output_type": "execute_result"
    }
   ],
   "source": [
    "df.describe()"
   ]
  },
  {
   "cell_type": "code",
   "execution_count": 39,
   "id": "fcc22ad0-8035-4371-aa0e-73b8b81f541b",
   "metadata": {},
   "outputs": [
    {
     "data": {
      "text/html": [
       "<div>\n",
       "<style scoped>\n",
       "    .dataframe tbody tr th:only-of-type {\n",
       "        vertical-align: middle;\n",
       "    }\n",
       "\n",
       "    .dataframe tbody tr th {\n",
       "        vertical-align: top;\n",
       "    }\n",
       "\n",
       "    .dataframe thead th {\n",
       "        text-align: right;\n",
       "    }\n",
       "</style>\n",
       "<table border=\"1\" class=\"dataframe\">\n",
       "  <thead>\n",
       "    <tr style=\"text-align: right;\">\n",
       "      <th></th>\n",
       "      <th>beer_ABV</th>\n",
       "      <th>beer_beerId</th>\n",
       "      <th>beer_brewerId</th>\n",
       "      <th>beer_name</th>\n",
       "      <th>beer_style</th>\n",
       "      <th>review_appearance</th>\n",
       "      <th>review_palette</th>\n",
       "      <th>review_overall</th>\n",
       "      <th>review_taste</th>\n",
       "      <th>review_profileName</th>\n",
       "      <th>review_aroma</th>\n",
       "      <th>review_text</th>\n",
       "      <th>review_time</th>\n",
       "      <th>year</th>\n",
       "    </tr>\n",
       "  </thead>\n",
       "  <tbody>\n",
       "    <tr>\n",
       "      <th>0</th>\n",
       "      <td>5.0</td>\n",
       "      <td>47986</td>\n",
       "      <td>10325</td>\n",
       "      <td>Sausa Weizen</td>\n",
       "      <td>Hefeweizen</td>\n",
       "      <td>2.5</td>\n",
       "      <td>2.0</td>\n",
       "      <td>1.5</td>\n",
       "      <td>1.5</td>\n",
       "      <td>stcules</td>\n",
       "      <td>1.5</td>\n",
       "      <td>A lot of foam. But a lot. In the smell some ba...</td>\n",
       "      <td>2009-02-16 20:57:03</td>\n",
       "      <td>2009</td>\n",
       "    </tr>\n",
       "    <tr>\n",
       "      <th>1</th>\n",
       "      <td>6.2</td>\n",
       "      <td>48213</td>\n",
       "      <td>10325</td>\n",
       "      <td>Red Moon</td>\n",
       "      <td>English Strong Ale</td>\n",
       "      <td>3.0</td>\n",
       "      <td>2.5</td>\n",
       "      <td>3.0</td>\n",
       "      <td>3.0</td>\n",
       "      <td>stcules</td>\n",
       "      <td>3.0</td>\n",
       "      <td>Dark red color, light beige foam, average. In ...</td>\n",
       "      <td>2009-03-01 13:44:57</td>\n",
       "      <td>2009</td>\n",
       "    </tr>\n",
       "    <tr>\n",
       "      <th>2</th>\n",
       "      <td>6.5</td>\n",
       "      <td>48215</td>\n",
       "      <td>10325</td>\n",
       "      <td>Black Horse Black Beer</td>\n",
       "      <td>Foreign / Export Stout</td>\n",
       "      <td>3.0</td>\n",
       "      <td>2.5</td>\n",
       "      <td>3.0</td>\n",
       "      <td>3.0</td>\n",
       "      <td>stcules</td>\n",
       "      <td>3.0</td>\n",
       "      <td>Almost totally black. Beige foam, quite compac...</td>\n",
       "      <td>2009-03-01 14:10:04</td>\n",
       "      <td>2009</td>\n",
       "    </tr>\n",
       "    <tr>\n",
       "      <th>3</th>\n",
       "      <td>5.0</td>\n",
       "      <td>47969</td>\n",
       "      <td>10325</td>\n",
       "      <td>Sausa Pils</td>\n",
       "      <td>German Pilsener</td>\n",
       "      <td>3.5</td>\n",
       "      <td>3.0</td>\n",
       "      <td>3.0</td>\n",
       "      <td>2.5</td>\n",
       "      <td>stcules</td>\n",
       "      <td>3.0</td>\n",
       "      <td>Golden yellow color. White, compact foam, quit...</td>\n",
       "      <td>2009-02-15 19:12:25</td>\n",
       "      <td>2009</td>\n",
       "    </tr>\n",
       "    <tr>\n",
       "      <th>4</th>\n",
       "      <td>7.7</td>\n",
       "      <td>64883</td>\n",
       "      <td>1075</td>\n",
       "      <td>Cauldron DIPA</td>\n",
       "      <td>American Double / Imperial IPA</td>\n",
       "      <td>4.0</td>\n",
       "      <td>4.5</td>\n",
       "      <td>4.0</td>\n",
       "      <td>4.0</td>\n",
       "      <td>johnmichaelsen</td>\n",
       "      <td>4.5</td>\n",
       "      <td>According to the website, the style for the Ca...</td>\n",
       "      <td>2010-12-30 18:53:26</td>\n",
       "      <td>2010</td>\n",
       "    </tr>\n",
       "  </tbody>\n",
       "</table>\n",
       "</div>"
      ],
      "text/plain": [
       "   beer_ABV  beer_beerId  beer_brewerId               beer_name  \\\n",
       "0       5.0        47986          10325            Sausa Weizen   \n",
       "1       6.2        48213          10325                Red Moon   \n",
       "2       6.5        48215          10325  Black Horse Black Beer   \n",
       "3       5.0        47969          10325              Sausa Pils   \n",
       "4       7.7        64883           1075           Cauldron DIPA   \n",
       "\n",
       "                       beer_style  review_appearance  review_palette  \\\n",
       "0                      Hefeweizen                2.5             2.0   \n",
       "1              English Strong Ale                3.0             2.5   \n",
       "2          Foreign / Export Stout                3.0             2.5   \n",
       "3                 German Pilsener                3.5             3.0   \n",
       "4  American Double / Imperial IPA                4.0             4.5   \n",
       "\n",
       "   review_overall  review_taste review_profileName  review_aroma  \\\n",
       "0             1.5           1.5            stcules           1.5   \n",
       "1             3.0           3.0            stcules           3.0   \n",
       "2             3.0           3.0            stcules           3.0   \n",
       "3             3.0           2.5            stcules           3.0   \n",
       "4             4.0           4.0     johnmichaelsen           4.5   \n",
       "\n",
       "                                         review_text         review_time  year  \n",
       "0  A lot of foam. But a lot. In the smell some ba... 2009-02-16 20:57:03  2009  \n",
       "1  Dark red color, light beige foam, average. In ... 2009-03-01 13:44:57  2009  \n",
       "2  Almost totally black. Beige foam, quite compac... 2009-03-01 14:10:04  2009  \n",
       "3  Golden yellow color. White, compact foam, quit... 2009-02-15 19:12:25  2009  \n",
       "4  According to the website, the style for the Ca... 2010-12-30 18:53:26  2010  "
      ]
     },
     "execution_count": 39,
     "metadata": {},
     "output_type": "execute_result"
    }
   ],
   "source": [
    "#First look at data\n",
    "df.head()"
   ]
  },
  {
   "cell_type": "markdown",
   "id": "30d6ee5c-a736-41d1-9d7c-e14b44a2dd9b",
   "metadata": {},
   "source": [
    "#### Another thing I noticed is that review_time is in Unix Epoch time and is an integer, I want to make it a datetime so its easier to read"
   ]
  },
  {
   "cell_type": "code",
   "execution_count": 40,
   "id": "297ad295-4ed3-475d-a5f7-dceb20e33fb4",
   "metadata": {},
   "outputs": [],
   "source": [
    "# Convert the 'review_time' column from Unix epoch to datetime\n",
    "df['review_time'] = pd.to_datetime(df['review_time'], unit='s')"
   ]
  },
  {
   "cell_type": "markdown",
   "id": "866c00a1-072d-450a-88ab-0a1b5362535e",
   "metadata": {},
   "source": [
    "Lastly, I want to deal with the problem of multiple reviews. A user can leave multiple reviews on the same beer, at different times, and this can affect our results. We would like one review per beer / user combination, so we keep only the highest overall review that a user has left for each beer ID."
   ]
  },
  {
   "cell_type": "code",
   "execution_count": 43,
   "id": "12be2127-8d74-4e99-b05c-6d0c5da5bcba",
   "metadata": {},
   "outputs": [],
   "source": [
    "# Changing the dataset so only one review per beer/user combo\n",
    "df = df.sort_values(by=\"review_overall\", ascending=False).drop_duplicates(subset=[\"review_profileName\", \"beer_beerId\"],keep=\"first\")"
   ]
  },
  {
   "cell_type": "markdown",
   "id": "c96521c4-f92c-4095-958e-26ef52863558",
   "metadata": {},
   "source": [
    "## Question 1 <p></p> Rank the top 3 breweries which produce the strongest beers."
   ]
  },
  {
   "cell_type": "code",
   "execution_count": 6,
   "id": "867cd5f9-739d-4e6e-98c0-370f1517992e",
   "metadata": {},
   "outputs": [
    {
     "data": {
      "text/html": [
       "<div>\n",
       "<style scoped>\n",
       "    .dataframe tbody tr th:only-of-type {\n",
       "        vertical-align: middle;\n",
       "    }\n",
       "\n",
       "    .dataframe tbody tr th {\n",
       "        vertical-align: top;\n",
       "    }\n",
       "\n",
       "    .dataframe thead th {\n",
       "        text-align: right;\n",
       "    }\n",
       "</style>\n",
       "<table border=\"1\" class=\"dataframe\">\n",
       "  <thead>\n",
       "    <tr style=\"text-align: right;\">\n",
       "      <th></th>\n",
       "      <th>beer_ABV</th>\n",
       "      <th>beer_beerId</th>\n",
       "      <th>beer_brewerId</th>\n",
       "      <th>beer_name</th>\n",
       "      <th>beer_style</th>\n",
       "      <th>review_appearance</th>\n",
       "      <th>review_palette</th>\n",
       "      <th>review_overall</th>\n",
       "      <th>review_taste</th>\n",
       "      <th>review_profileName</th>\n",
       "      <th>review_aroma</th>\n",
       "      <th>review_text</th>\n",
       "      <th>review_time</th>\n",
       "    </tr>\n",
       "  </thead>\n",
       "  <tbody>\n",
       "    <tr>\n",
       "      <th>12889</th>\n",
       "      <td>57.7</td>\n",
       "      <td>73368</td>\n",
       "      <td>6513</td>\n",
       "      <td>Schorschbräu Schorschbock 57%</td>\n",
       "      <td>Eisbock</td>\n",
       "      <td>4.0</td>\n",
       "      <td>4.0</td>\n",
       "      <td>4.0</td>\n",
       "      <td>4.0</td>\n",
       "      <td>kappldav123</td>\n",
       "      <td>3.5</td>\n",
       "      <td>New world strongest beer. Very limited, only 3...</td>\n",
       "      <td>1316780901</td>\n",
       "    </tr>\n",
       "    <tr>\n",
       "      <th>293762</th>\n",
       "      <td>27.0</td>\n",
       "      <td>25759</td>\n",
       "      <td>35</td>\n",
       "      <td>Samuel Adams Utopias</td>\n",
       "      <td>American Strong Ale</td>\n",
       "      <td>4.0</td>\n",
       "      <td>3.5</td>\n",
       "      <td>4.0</td>\n",
       "      <td>3.5</td>\n",
       "      <td>inlimbo77</td>\n",
       "      <td>4.0</td>\n",
       "      <td>2011 version tasted at Deer Park Tavern event ...</td>\n",
       "      <td>1323187958</td>\n",
       "    </tr>\n",
       "    <tr>\n",
       "      <th>58570</th>\n",
       "      <td>19.5</td>\n",
       "      <td>74295</td>\n",
       "      <td>16866</td>\n",
       "      <td>Grey Monday</td>\n",
       "      <td>American Double / Imperial Stout</td>\n",
       "      <td>4.0</td>\n",
       "      <td>5.0</td>\n",
       "      <td>4.5</td>\n",
       "      <td>4.5</td>\n",
       "      <td>Hands22</td>\n",
       "      <td>5.0</td>\n",
       "      <td>Served from a cask in 6oz pours at Beachwood B...</td>\n",
       "      <td>1318997327</td>\n",
       "    </tr>\n",
       "  </tbody>\n",
       "</table>\n",
       "</div>"
      ],
      "text/plain": [
       "        beer_ABV  beer_beerId  beer_brewerId                      beer_name  \\\n",
       "12889       57.7        73368           6513  Schorschbräu Schorschbock 57%   \n",
       "293762      27.0        25759             35           Samuel Adams Utopias   \n",
       "58570       19.5        74295          16866                    Grey Monday   \n",
       "\n",
       "                              beer_style  review_appearance  review_palette  \\\n",
       "12889                            Eisbock                4.0             4.0   \n",
       "293762               American Strong Ale                4.0             3.5   \n",
       "58570   American Double / Imperial Stout                4.0             5.0   \n",
       "\n",
       "        review_overall  review_taste review_profileName  review_aroma  \\\n",
       "12889              4.0           4.0        kappldav123           3.5   \n",
       "293762             4.0           3.5          inlimbo77           4.0   \n",
       "58570              4.5           4.5            Hands22           5.0   \n",
       "\n",
       "                                              review_text  review_time  \n",
       "12889   New world strongest beer. Very limited, only 3...   1316780901  \n",
       "293762  2011 version tasted at Deer Park Tavern event ...   1323187958  \n",
       "58570   Served from a cask in 6oz pours at Beachwood B...   1318997327  "
      ]
     },
     "execution_count": 6,
     "metadata": {},
     "output_type": "execute_result"
    }
   ],
   "source": [
    "# This question asks about the brewery, not the 3 highest % beers in general \n",
    "q1 = df.sort_values('beer_ABV',ascending=False).drop_duplicates('beer_brewerId').head(3)\n",
    "q1"
   ]
  },
  {
   "cell_type": "markdown",
   "id": "c0139810-d6c4-48b5-9592-8a3515987102",
   "metadata": {},
   "source": [
    "<p> Those are some incredibly strong beers! In the dataset the median beer is 6.5% and the average beer is 7.01% ABV</p>"
   ]
  },
  {
   "cell_type": "code",
   "execution_count": 48,
   "id": "f879206c-99cd-4368-96f5-0c32ead152eb",
   "metadata": {},
   "outputs": [
    {
     "data": {
      "text/plain": [
       "<Axes: ylabel='beer_ABV'>"
      ]
     },
     "execution_count": 48,
     "metadata": {},
     "output_type": "execute_result"
    },
    {
     "data": {
      "image/png": "[encoded data removed]",
      "text/plain": [
       "<Figure size 640x480 with 1 Axes>"
      ]
     },
     "metadata": {},
     "output_type": "display_data"
    }
   ],
   "source": [
    "# Box plot showing the distribution of beer ABV  that different brewers make\n",
    "sns.boxplot(q1,y='beer_ABV')"
   ]
  },
  {
   "cell_type": "markdown",
   "id": "a0d0822c-645f-44ca-82b5-e8d53982f0e9",
   "metadata": {},
   "source": [
    "## Question 2  <p></p> Which year did beers enjoy the highest ratings?"
   ]
  },
  {
   "cell_type": "code",
   "execution_count": 42,
   "id": "1df01990-b060-44e8-92b7-7c202b84529a",
   "metadata": {},
   "outputs": [
    {
     "data": {
      "text/plain": [
       "<Axes: xlabel='year', ylabel='review_overall'>"
      ]
     },
     "execution_count": 42,
     "metadata": {},
     "output_type": "execute_result"
    },
    {
     "data": {
      "image/png": "[encoded data removed]",
      "text/plain": [
       "<Figure size 640x480 with 1 Axes>"
      ]
     },
     "metadata": {},
     "output_type": "display_data"
    }
   ],
   "source": [
    "df['year'] = df['review_time'].dt.year\n",
    "sns.barplot(df,x='year',y='review_overall')"
   ]
  },
  {
   "cell_type": "markdown",
   "id": "99ff1f2e-3111-4ada-81e3-76cb8d9e1857",
   "metadata": {},
   "source": [
    "<p>According to this data, the year 2000 had the highest reviews for beer</p>"
   ]
  },
  {
   "cell_type": "markdown",
   "id": "6553f26d-81c9-4dba-9adc-d4613591e1c1",
   "metadata": {},
   "source": [
    "## Question 3 <p></p> Based on the users' ratings, which factors are important among taste, aroma, appearance, and palette?"
   ]
  },
  {
   "cell_type": "code",
   "execution_count": 60,
   "id": "17dc5240-60c7-411a-8674-2ae482a79eab",
   "metadata": {},
   "outputs": [
    {
     "data": {
      "text/html": [
       "<div>\n",
       "<style scoped>\n",
       "    .dataframe tbody tr th:only-of-type {\n",
       "        vertical-align: middle;\n",
       "    }\n",
       "\n",
       "    .dataframe tbody tr th {\n",
       "        vertical-align: top;\n",
       "    }\n",
       "\n",
       "    .dataframe thead th {\n",
       "        text-align: right;\n",
       "    }\n",
       "</style>\n",
       "<table border=\"1\" class=\"dataframe\">\n",
       "  <thead>\n",
       "    <tr style=\"text-align: right;\">\n",
       "      <th></th>\n",
       "      <th>review_overall</th>\n",
       "      <th>review_aroma</th>\n",
       "      <th>review_taste</th>\n",
       "      <th>review_palette</th>\n",
       "      <th>review_appearance</th>\n",
       "    </tr>\n",
       "  </thead>\n",
       "  <tbody>\n",
       "    <tr>\n",
       "      <th>review_overall</th>\n",
       "      <td>1.000000</td>\n",
       "      <td>0.883838</td>\n",
       "      <td>0.823208</td>\n",
       "      <td>0.766894</td>\n",
       "      <td>0.637661</td>\n",
       "    </tr>\n",
       "    <tr>\n",
       "      <th>review_aroma</th>\n",
       "      <td>0.883838</td>\n",
       "      <td>1.000000</td>\n",
       "      <td>0.835019</td>\n",
       "      <td>0.825980</td>\n",
       "      <td>0.660216</td>\n",
       "    </tr>\n",
       "    <tr>\n",
       "      <th>review_taste</th>\n",
       "      <td>0.823208</td>\n",
       "      <td>0.835019</td>\n",
       "      <td>1.000000</td>\n",
       "      <td>0.756267</td>\n",
       "      <td>0.682249</td>\n",
       "    </tr>\n",
       "    <tr>\n",
       "      <th>review_palette</th>\n",
       "      <td>0.766894</td>\n",
       "      <td>0.825980</td>\n",
       "      <td>0.756267</td>\n",
       "      <td>1.000000</td>\n",
       "      <td>0.669211</td>\n",
       "    </tr>\n",
       "    <tr>\n",
       "      <th>review_appearance</th>\n",
       "      <td>0.637661</td>\n",
       "      <td>0.660216</td>\n",
       "      <td>0.682249</td>\n",
       "      <td>0.669211</td>\n",
       "      <td>1.000000</td>\n",
       "    </tr>\n",
       "  </tbody>\n",
       "</table>\n",
       "</div>"
      ],
      "text/plain": [
       "                   review_overall  review_aroma  review_taste  review_palette  \\\n",
       "review_overall           1.000000      0.883838      0.823208        0.766894   \n",
       "review_aroma             0.883838      1.000000      0.835019        0.825980   \n",
       "review_taste             0.823208      0.835019      1.000000        0.756267   \n",
       "review_palette           0.766894      0.825980      0.756267        1.000000   \n",
       "review_appearance        0.637661      0.660216      0.682249        0.669211   \n",
       "\n",
       "                   review_appearance  \n",
       "review_overall              0.637661  \n",
       "review_aroma                0.660216  \n",
       "review_taste                0.682249  \n",
       "review_palette              0.669211  \n",
       "review_appearance           1.000000  "
      ]
     },
     "execution_count": 60,
     "metadata": {},
     "output_type": "execute_result"
    }
   ],
   "source": [
    "# To determine the importance between the factors listed, and the users' (overall) ratings, \n",
    "# We can calculate the correlation coefficient between them and use it as an important measure.\n",
    "\n",
    "q3 = df.groupby(by='beer_beerId')[['review_overall','review_aroma','review_taste','review_palette','review_appearance']].mean()\n",
    "corr_q3 = q3.corr()\n",
    "corr_q3"
   ]
  },
  {
   "cell_type": "markdown",
   "id": "5482e7c8-33aa-4ad9-9427-33593e277e72",
   "metadata": {},
   "source": [
    "<p> Higher correlation means higher importance, we can see based on review overall that review aroma is the most important, followed by review taste</p>"
   ]
  },
  {
   "cell_type": "code",
   "execution_count": 74,
   "id": "5ab7ae6f-a24b-4241-8b64-77b6f4562ffe",
   "metadata": {},
   "outputs": [
    {
     "data": {
      "image/png": "[encoded data removed]",
      "text/plain": [
       "<Figure size 800x600 with 2 Axes>"
      ]
     },
     "metadata": {},
     "output_type": "display_data"
    }
   ],
   "source": [
    "plt.figure(figsize=(8, 6))\n",
    "sns.heatmap(corr_q3, annot=True)\n",
    "plt.show()"
   ]
  },
  {
   "cell_type": "markdown",
   "id": "69443b63-ead6-4f91-88c9-4bbf718689b3",
   "metadata": {},
   "source": [
    "## Question 4<p></p>If you were to recommend 3 beers to your friends based on this data, which ones would you recommend?"
   ]
  },
  {
   "cell_type": "code",
   "execution_count": 9,
   "id": "c3e4b82c-a5ce-413d-b9eb-4447cf4be191",
   "metadata": {},
   "outputs": [
    {
     "data": {
      "text/html": [
       "<div>\n",
       "<style scoped>\n",
       "    .dataframe tbody tr th:only-of-type {\n",
       "        vertical-align: middle;\n",
       "    }\n",
       "\n",
       "    .dataframe tbody tr th {\n",
       "        vertical-align: top;\n",
       "    }\n",
       "\n",
       "    .dataframe thead th {\n",
       "        text-align: right;\n",
       "    }\n",
       "</style>\n",
       "<table border=\"1\" class=\"dataframe\">\n",
       "  <thead>\n",
       "    <tr style=\"text-align: right;\">\n",
       "      <th></th>\n",
       "      <th>num_of_reviews</th>\n",
       "      <th>avg_review_score</th>\n",
       "    </tr>\n",
       "    <tr>\n",
       "      <th>beer_name</th>\n",
       "      <th></th>\n",
       "      <th></th>\n",
       "    </tr>\n",
       "  </thead>\n",
       "  <tbody>\n",
       "    <tr>\n",
       "      <th>Sierra Nevada Celebration Ale</th>\n",
       "      <td>2998</td>\n",
       "      <td>4.168446</td>\n",
       "    </tr>\n",
       "    <tr>\n",
       "      <th>Sierra Nevada Pale Ale</th>\n",
       "      <td>2586</td>\n",
       "      <td>4.245940</td>\n",
       "    </tr>\n",
       "    <tr>\n",
       "      <th>Founders Breakfast Stout</th>\n",
       "      <td>2501</td>\n",
       "      <td>4.354658</td>\n",
       "    </tr>\n",
       "    <tr>\n",
       "      <th>Sierra Nevada Bigfoot Barleywine Style Ale</th>\n",
       "      <td>2491</td>\n",
       "      <td>3.966479</td>\n",
       "    </tr>\n",
       "    <tr>\n",
       "      <th>La Fin Du Monde</th>\n",
       "      <td>2480</td>\n",
       "      <td>4.297581</td>\n",
       "    </tr>\n",
       "    <tr>\n",
       "      <th>Samuel Adams Boston Lager</th>\n",
       "      <td>2416</td>\n",
       "      <td>4.044702</td>\n",
       "    </tr>\n",
       "    <tr>\n",
       "      <th>Chocolate Stout</th>\n",
       "      <td>2233</td>\n",
       "      <td>4.017241</td>\n",
       "    </tr>\n",
       "    <tr>\n",
       "      <th>Dead Guy Ale</th>\n",
       "      <td>2229</td>\n",
       "      <td>4.044639</td>\n",
       "    </tr>\n",
       "    <tr>\n",
       "      <th>Trappistes Rochefort 10</th>\n",
       "      <td>2170</td>\n",
       "      <td>4.339401</td>\n",
       "    </tr>\n",
       "    <tr>\n",
       "      <th>Sierra Nevada Torpedo Extra IPA</th>\n",
       "      <td>2028</td>\n",
       "      <td>4.104290</td>\n",
       "    </tr>\n",
       "  </tbody>\n",
       "</table>\n",
       "</div>"
      ],
      "text/plain": [
       "                                            num_of_reviews  avg_review_score\n",
       "beer_name                                                                   \n",
       "Sierra Nevada Celebration Ale                         2998          4.168446\n",
       "Sierra Nevada Pale Ale                                2586          4.245940\n",
       "Founders Breakfast Stout                              2501          4.354658\n",
       "Sierra Nevada Bigfoot Barleywine Style Ale            2491          3.966479\n",
       "La Fin Du Monde                                       2480          4.297581\n",
       "Samuel Adams Boston Lager                             2416          4.044702\n",
       "Chocolate Stout                                       2233          4.017241\n",
       "Dead Guy Ale                                          2229          4.044639\n",
       "Trappistes Rochefort 10                               2170          4.339401\n",
       "Sierra Nevada Torpedo Extra IPA                       2028          4.104290"
      ]
     },
     "execution_count": 9,
     "metadata": {},
     "output_type": "execute_result"
    }
   ],
   "source": [
    "# I would recommend my friends the beers that have been reviewed most highly most often. Only the best for them!\n",
    "q4 = df.groupby(by='beer_name')['review_overall'].agg(['count','mean'])\n",
    "# Renaming columns for readability\n",
    "q4 = q4.rename(columns={'count':'num_of_reviews','mean':'avg_review_score'})\n",
    "#Sorting the values to show top 10\n",
    "q4.sort_values(by='num_of_reviews', ascending=False, inplace=True)\n",
    "q4.head(10)"
   ]
  },
  {
   "cell_type": "code",
   "execution_count": 10,
   "id": "a8b7add6-2283-475a-b396-c99c7d5e7643",
   "metadata": {},
   "outputs": [
    {
     "data": {
      "text/html": [
       "<div>\n",
       "<style scoped>\n",
       "    .dataframe tbody tr th:only-of-type {\n",
       "        vertical-align: middle;\n",
       "    }\n",
       "\n",
       "    .dataframe tbody tr th {\n",
       "        vertical-align: top;\n",
       "    }\n",
       "\n",
       "    .dataframe thead th {\n",
       "        text-align: right;\n",
       "    }\n",
       "</style>\n",
       "<table border=\"1\" class=\"dataframe\">\n",
       "  <thead>\n",
       "    <tr style=\"text-align: right;\">\n",
       "      <th></th>\n",
       "      <th>num_of_reviews</th>\n",
       "      <th>avg_review_score</th>\n",
       "    </tr>\n",
       "    <tr>\n",
       "      <th>beer_name</th>\n",
       "      <th></th>\n",
       "      <th></th>\n",
       "    </tr>\n",
       "  </thead>\n",
       "  <tbody>\n",
       "    <tr>\n",
       "      <th>Neustadt 180</th>\n",
       "      <td>1</td>\n",
       "      <td>5.0</td>\n",
       "    </tr>\n",
       "    <tr>\n",
       "      <th>Hopback Amber (Simcoe Dry Hopped)</th>\n",
       "      <td>1</td>\n",
       "      <td>5.0</td>\n",
       "    </tr>\n",
       "    <tr>\n",
       "      <th>Chocolate Nutter</th>\n",
       "      <td>1</td>\n",
       "      <td>5.0</td>\n",
       "    </tr>\n",
       "    <tr>\n",
       "      <th>Honey Badger</th>\n",
       "      <td>1</td>\n",
       "      <td>5.0</td>\n",
       "    </tr>\n",
       "    <tr>\n",
       "      <th>Kimono Girl</th>\n",
       "      <td>1</td>\n",
       "      <td>5.0</td>\n",
       "    </tr>\n",
       "    <tr>\n",
       "      <th>Triplexxx</th>\n",
       "      <td>1</td>\n",
       "      <td>5.0</td>\n",
       "    </tr>\n",
       "    <tr>\n",
       "      <th>Kingfisher Super Strong</th>\n",
       "      <td>1</td>\n",
       "      <td>5.0</td>\n",
       "    </tr>\n",
       "    <tr>\n",
       "      <th>Cauldron Brew</th>\n",
       "      <td>1</td>\n",
       "      <td>5.0</td>\n",
       "    </tr>\n",
       "    <tr>\n",
       "      <th>Christmas Stark Lager</th>\n",
       "      <td>1</td>\n",
       "      <td>5.0</td>\n",
       "    </tr>\n",
       "    <tr>\n",
       "      <th>One Love</th>\n",
       "      <td>1</td>\n",
       "      <td>5.0</td>\n",
       "    </tr>\n",
       "  </tbody>\n",
       "</table>\n",
       "</div>"
      ],
      "text/plain": [
       "                                   num_of_reviews  avg_review_score\n",
       "beer_name                                                          \n",
       "Neustadt 180                                    1               5.0\n",
       "Hopback Amber (Simcoe Dry Hopped)               1               5.0\n",
       "Chocolate Nutter                                1               5.0\n",
       "Honey Badger                                    1               5.0\n",
       "Kimono Girl                                     1               5.0\n",
       "Triplexxx                                       1               5.0\n",
       "Kingfisher Super Strong                         1               5.0\n",
       "Cauldron Brew                                   1               5.0\n",
       "Christmas Stark Lager                           1               5.0\n",
       "One Love                                        1               5.0"
      ]
     },
     "execution_count": 10,
     "metadata": {},
     "output_type": "execute_result"
    }
   ],
   "source": [
    "# For fun this is just the most highly rated beers as well\n",
    "q4.sort_values(by='avg_review_score', ascending=False, inplace=True)\n",
    "q4.head(10)"
   ]
  },
  {
   "cell_type": "code",
   "execution_count": 11,
   "id": "92887b29-764d-49f6-8013-f79b93143e29",
   "metadata": {},
   "outputs": [
    {
     "data": {
      "text/html": [
       "<div>\n",
       "<style scoped>\n",
       "    .dataframe tbody tr th:only-of-type {\n",
       "        vertical-align: middle;\n",
       "    }\n",
       "\n",
       "    .dataframe tbody tr th {\n",
       "        vertical-align: top;\n",
       "    }\n",
       "\n",
       "    .dataframe thead th {\n",
       "        text-align: right;\n",
       "    }\n",
       "</style>\n",
       "<table border=\"1\" class=\"dataframe\">\n",
       "  <thead>\n",
       "    <tr style=\"text-align: right;\">\n",
       "      <th></th>\n",
       "      <th>num_of_reviews</th>\n",
       "      <th>avg_review_score</th>\n",
       "    </tr>\n",
       "  </thead>\n",
       "  <tbody>\n",
       "    <tr>\n",
       "      <th>count</th>\n",
       "      <td>14028.000000</td>\n",
       "      <td>14028.000000</td>\n",
       "    </tr>\n",
       "    <tr>\n",
       "      <th>mean</th>\n",
       "      <td>36.238808</td>\n",
       "      <td>3.648806</td>\n",
       "    </tr>\n",
       "    <tr>\n",
       "      <th>std</th>\n",
       "      <td>148.110098</td>\n",
       "      <td>0.623408</td>\n",
       "    </tr>\n",
       "    <tr>\n",
       "      <th>min</th>\n",
       "      <td>1.000000</td>\n",
       "      <td>1.000000</td>\n",
       "    </tr>\n",
       "    <tr>\n",
       "      <th>25%</th>\n",
       "      <td>1.000000</td>\n",
       "      <td>3.400000</td>\n",
       "    </tr>\n",
       "    <tr>\n",
       "      <th>50%</th>\n",
       "      <td>3.000000</td>\n",
       "      <td>3.750000</td>\n",
       "    </tr>\n",
       "    <tr>\n",
       "      <th>75%</th>\n",
       "      <td>12.000000</td>\n",
       "      <td>4.000000</td>\n",
       "    </tr>\n",
       "    <tr>\n",
       "      <th>max</th>\n",
       "      <td>2998.000000</td>\n",
       "      <td>5.000000</td>\n",
       "    </tr>\n",
       "  </tbody>\n",
       "</table>\n",
       "</div>"
      ],
      "text/plain": [
       "       num_of_reviews  avg_review_score\n",
       "count    14028.000000      14028.000000\n",
       "mean        36.238808          3.648806\n",
       "std        148.110098          0.623408\n",
       "min          1.000000          1.000000\n",
       "25%          1.000000          3.400000\n",
       "50%          3.000000          3.750000\n",
       "75%         12.000000          4.000000\n",
       "max       2998.000000          5.000000"
      ]
     },
     "execution_count": 11,
     "metadata": {},
     "output_type": "execute_result"
    }
   ],
   "source": [
    "# Using describe on q4 we can see that 50% of beers have 3 reviews or less and 75% have 11 reviews or less\n",
    "q4.describe()"
   ]
  },
  {
   "cell_type": "code",
   "execution_count": 19,
   "id": "98e00c0d-57ee-47ad-bd1f-c780a1a1a4bf",
   "metadata": {},
   "outputs": [
    {
     "name": "stderr",
     "output_type": "stream",
     "text": [
      "/Users/gavinmetellus/anaconda3/lib/python3.11/site-packages/seaborn/_oldcore.py:1119: FutureWarning: use_inf_as_na option is deprecated and will be removed in a future version. Convert inf values to NaN before operating instead.\n",
      "  with pd.option_context('mode.use_inf_as_na', True):\n"
     ]
    },
    {
     "data": {
      "text/plain": [
       "<Axes: xlabel='num_of_reviews', ylabel='Count'>"
      ]
     },
     "execution_count": 19,
     "metadata": {},
     "output_type": "execute_result"
    },
    {
     "data": {
      "image/png": "[encoded data removed]",
      "text/plain": [
       "<Figure size 640x480 with 1 Axes>"
      ]
     },
     "metadata": {},
     "output_type": "display_data"
    }
   ],
   "source": [
    "# Distribution for the number of reviews \n",
    "sns.histplot(data=q4, x=\"num_of_reviews\", bins=50, kde=True,color = 'purple')"
   ]
  },
  {
   "cell_type": "code",
   "execution_count": 21,
   "id": "d9fd44c6-1cd1-48f4-8343-c0db5fe4d846",
   "metadata": {},
   "outputs": [
    {
     "name": "stderr",
     "output_type": "stream",
     "text": [
      "/Users/gavinmetellus/anaconda3/lib/python3.11/site-packages/seaborn/_oldcore.py:1119: FutureWarning: use_inf_as_na option is deprecated and will be removed in a future version. Convert inf values to NaN before operating instead.\n",
      "  with pd.option_context('mode.use_inf_as_na', True):\n"
     ]
    },
    {
     "data": {
      "image/png": "[encoded data removed]",
      "text/plain": [
       "<Figure size 640x480 with 1 Axes>"
      ]
     },
     "metadata": {},
     "output_type": "display_data"
    }
   ],
   "source": [
    "# Count of number of beers where there are at least 300 reviews\n",
    "sns.histplot(data=q4[q4['num_of_reviews'] > 300], x='num_of_reviews', bins=50, kde=True, color='orange')\n",
    "plt.show()"
   ]
  },
  {
   "cell_type": "code",
   "execution_count": 29,
   "id": "2491a94c-d033-466b-8f36-8e6444835f22",
   "metadata": {},
   "outputs": [
    {
     "data": {
      "text/html": [
       "<div>\n",
       "<style scoped>\n",
       "    .dataframe tbody tr th:only-of-type {\n",
       "        vertical-align: middle;\n",
       "    }\n",
       "\n",
       "    .dataframe tbody tr th {\n",
       "        vertical-align: top;\n",
       "    }\n",
       "\n",
       "    .dataframe thead th {\n",
       "        text-align: right;\n",
       "    }\n",
       "</style>\n",
       "<table border=\"1\" class=\"dataframe\">\n",
       "  <thead>\n",
       "    <tr style=\"text-align: right;\">\n",
       "      <th></th>\n",
       "      <th>num_of_reviews</th>\n",
       "      <th>avg_review_score</th>\n",
       "    </tr>\n",
       "    <tr>\n",
       "      <th>beer_name</th>\n",
       "      <th></th>\n",
       "      <th></th>\n",
       "    </tr>\n",
       "  </thead>\n",
       "  <tbody>\n",
       "    <tr>\n",
       "      <th>Heady Topper</th>\n",
       "      <td>469</td>\n",
       "      <td>4.625800</td>\n",
       "    </tr>\n",
       "    <tr>\n",
       "      <th>Founders CBS Imperial Stout</th>\n",
       "      <td>637</td>\n",
       "      <td>4.591052</td>\n",
       "    </tr>\n",
       "    <tr>\n",
       "      <th>Masala Mama India Pale Ale</th>\n",
       "      <td>662</td>\n",
       "      <td>4.488671</td>\n",
       "    </tr>\n",
       "    <tr>\n",
       "      <th>Founders KBS (Kentucky Breakfast Stout)</th>\n",
       "      <td>1928</td>\n",
       "      <td>4.396266</td>\n",
       "    </tr>\n",
       "    <tr>\n",
       "      <th>Tröegs Nugget Nectar</th>\n",
       "      <td>1953</td>\n",
       "      <td>4.396057</td>\n",
       "    </tr>\n",
       "  </tbody>\n",
       "</table>\n",
       "</div>"
      ],
      "text/plain": [
       "                                         num_of_reviews  avg_review_score\n",
       "beer_name                                                                \n",
       "Heady Topper                                        469          4.625800\n",
       "Founders CBS Imperial Stout                         637          4.591052\n",
       "Masala Mama India Pale Ale                          662          4.488671\n",
       "Founders KBS (Kentucky Breakfast Stout)            1928          4.396266\n",
       "Tröegs Nugget Nectar                               1953          4.396057"
      ]
     },
     "execution_count": 29,
     "metadata": {},
     "output_type": "execute_result"
    }
   ],
   "source": [
    "# These are the highest-reviewed, beers with a substantial number of reviews\n",
    "q4[q4['num_of_reviews'] >=300].sort_values(by='avg_review_score',ascending=False).head()"
   ]
  },
  {
   "cell_type": "markdown",
   "id": "49af49e3-8186-4e2b-a55e-035f04234a0c",
   "metadata": {},
   "source": [
    "## Question 5 <p></p>Which beer style seems to be the favourite based on the reviews written by users? How does written reviews compare to overall review score for that beer style?"
   ]
  },
  {
   "cell_type": "markdown",
   "id": "911dd0ca-7d4d-449e-959c-213e97ec6b4e",
   "metadata": {},
   "source": [
    "\n",
    "In the previous questions we have been dealing with statistical matters, but in this question, we have some machine learning involved; natural language processing (NLP) nonetheless.\n",
    "\n",
    "For the first part of the question, we are going to want to explore the review_text column. It is the text that the user wrote when reviewing the beer. We will use an NLP model that can analyze the sentiment in the text and label it as positive, negative, or neutral.\n",
    "\n",
    "A suitable solution for this task is the VADER (Valence Aware Dictionary and sEntiment Reasoner) tool.\n"
   ]
  },
  {
   "cell_type": "code",
   "execution_count": 30,
   "id": "533ee7ad-3289-4370-8ad7-357d0818304e",
   "metadata": {},
   "outputs": [],
   "source": [
    "from nltk import download\n",
    "from nltk.sentiment.vader import SentimentIntensityAnalyzer"
   ]
  },
  {
   "cell_type": "code",
   "execution_count": 31,
   "id": "e7ee499e-9c60-4c4c-8501-a1a44ca28fd9",
   "metadata": {},
   "outputs": [
    {
     "data": {
      "text/plain": [
       "True"
      ]
     },
     "execution_count": 31,
     "metadata": {},
     "output_type": "execute_result"
    }
   ],
   "source": [
    "# this is a scored list of words and jargon that the sentiment analyser\n",
    "# uses references when performing sentiment analysis\n",
    "download(\"vader_lexicon\", quiet=True)"
   ]
  },
  {
   "cell_type": "code",
   "execution_count": 32,
   "id": "7edcbcae-cb38-43de-bc10-e1e8dc70ccc6",
   "metadata": {},
   "outputs": [],
   "source": [
    "#Creating the analyzer to read through the comments\n",
    "analyser = SentimentIntensityAnalyzer()"
   ]
  },
  {
   "cell_type": "code",
   "execution_count": 33,
   "id": "1e44c645-bfc9-4061-bd71-046c7ac2d1c7",
   "metadata": {},
   "outputs": [],
   "source": [
    "#We create a new column review_sentiment which is the compound score of the review text. \n",
    "#Executing this cell will take a few minutes.\n",
    "df[\"review_sentiment\"] = df[\"review_text\"].apply(lambda x: analyser.polarity_scores(text=x)[\"compound\"])"
   ]
  },
  {
   "cell_type": "code",
   "execution_count": 34,
   "id": "75405e50-37d0-43b9-85c7-1e37f54ae714",
   "metadata": {},
   "outputs": [
    {
     "data": {
      "text/html": [
       "<div>\n",
       "<style scoped>\n",
       "    .dataframe tbody tr th:only-of-type {\n",
       "        vertical-align: middle;\n",
       "    }\n",
       "\n",
       "    .dataframe tbody tr th {\n",
       "        vertical-align: top;\n",
       "    }\n",
       "\n",
       "    .dataframe thead th {\n",
       "        text-align: right;\n",
       "    }\n",
       "</style>\n",
       "<table border=\"1\" class=\"dataframe\">\n",
       "  <thead>\n",
       "    <tr style=\"text-align: right;\">\n",
       "      <th></th>\n",
       "      <th>mean</th>\n",
       "      <th>count</th>\n",
       "    </tr>\n",
       "    <tr>\n",
       "      <th>beer_style</th>\n",
       "      <th></th>\n",
       "      <th></th>\n",
       "    </tr>\n",
       "  </thead>\n",
       "  <tbody>\n",
       "    <tr>\n",
       "      <th>Quadrupel (Quad)</th>\n",
       "      <td>0.857195</td>\n",
       "      <td>4822</td>\n",
       "    </tr>\n",
       "    <tr>\n",
       "      <th>Dortmunder / Export Lager</th>\n",
       "      <td>0.855512</td>\n",
       "      <td>1723</td>\n",
       "    </tr>\n",
       "    <tr>\n",
       "      <th>Roggenbier</th>\n",
       "      <td>0.852447</td>\n",
       "      <td>140</td>\n",
       "    </tr>\n",
       "    <tr>\n",
       "      <th>Flanders Red Ale</th>\n",
       "      <td>0.850987</td>\n",
       "      <td>2782</td>\n",
       "    </tr>\n",
       "    <tr>\n",
       "      <th>Braggot</th>\n",
       "      <td>0.850845</td>\n",
       "      <td>198</td>\n",
       "    </tr>\n",
       "    <tr>\n",
       "      <th>...</th>\n",
       "      <td>...</td>\n",
       "      <td>...</td>\n",
       "    </tr>\n",
       "    <tr>\n",
       "      <th>Happoshu</th>\n",
       "      <td>0.533456</td>\n",
       "      <td>55</td>\n",
       "    </tr>\n",
       "    <tr>\n",
       "      <th>American Malt Liquor</th>\n",
       "      <td>0.527535</td>\n",
       "      <td>1344</td>\n",
       "    </tr>\n",
       "    <tr>\n",
       "      <th>Japanese Rice Lager</th>\n",
       "      <td>0.516697</td>\n",
       "      <td>493</td>\n",
       "    </tr>\n",
       "    <tr>\n",
       "      <th>Light Lager</th>\n",
       "      <td>0.469700</td>\n",
       "      <td>4168</td>\n",
       "    </tr>\n",
       "    <tr>\n",
       "      <th>Low Alcohol Beer</th>\n",
       "      <td>0.396340</td>\n",
       "      <td>145</td>\n",
       "    </tr>\n",
       "  </tbody>\n",
       "</table>\n",
       "<p>104 rows × 2 columns</p>\n",
       "</div>"
      ],
      "text/plain": [
       "                               mean  count\n",
       "beer_style                                \n",
       "Quadrupel (Quad)           0.857195   4822\n",
       "Dortmunder / Export Lager  0.855512   1723\n",
       "Roggenbier                 0.852447    140\n",
       "Flanders Red Ale           0.850987   2782\n",
       "Braggot                    0.850845    198\n",
       "...                             ...    ...\n",
       "Happoshu                   0.533456     55\n",
       "American Malt Liquor       0.527535   1344\n",
       "Japanese Rice Lager        0.516697    493\n",
       "Light Lager                0.469700   4168\n",
       "Low Alcohol Beer           0.396340    145\n",
       "\n",
       "[104 rows x 2 columns]"
      ]
     },
     "execution_count": 34,
     "metadata": {},
     "output_type": "execute_result"
    }
   ],
   "source": [
    "df.groupby(by=\"beer_style\")[\"review_sentiment\"].agg(func=[\"mean\", \"count\"]).sort_values(by=\"mean\", ascending=False)"
   ]
  },
  {
   "cell_type": "markdown",
   "id": "ef0bce9f-5af8-4cd4-b448-299b9e605f0c",
   "metadata": {},
   "source": [
    "### This is the first part of the question answered. \"Quadrupel (Quad)\" has the highest average review setiment, along with a sizeable number of reviews to back up that data. <p></p> Using the correlation coefficent of review sentiment with overall review score we can see how close they are\n",
    "<p></p> "
   ]
  },
  {
   "cell_type": "code",
   "execution_count": 35,
   "id": "1fbabb52-67af-4aa3-a647-79b5fe41f18c",
   "metadata": {},
   "outputs": [
    {
     "data": {
      "text/html": [
       "<div>\n",
       "<style scoped>\n",
       "    .dataframe tbody tr th:only-of-type {\n",
       "        vertical-align: middle;\n",
       "    }\n",
       "\n",
       "    .dataframe tbody tr th {\n",
       "        vertical-align: top;\n",
       "    }\n",
       "\n",
       "    .dataframe thead th {\n",
       "        text-align: right;\n",
       "    }\n",
       "</style>\n",
       "<table border=\"1\" class=\"dataframe\">\n",
       "  <thead>\n",
       "    <tr style=\"text-align: right;\">\n",
       "      <th></th>\n",
       "      <th>review_sentiment</th>\n",
       "      <th>review_overall</th>\n",
       "    </tr>\n",
       "  </thead>\n",
       "  <tbody>\n",
       "    <tr>\n",
       "      <th>review_sentiment</th>\n",
       "      <td>1.000000</td>\n",
       "      <td>0.259532</td>\n",
       "    </tr>\n",
       "    <tr>\n",
       "      <th>review_overall</th>\n",
       "      <td>0.259532</td>\n",
       "      <td>1.000000</td>\n",
       "    </tr>\n",
       "  </tbody>\n",
       "</table>\n",
       "</div>"
      ],
      "text/plain": [
       "                  review_sentiment  review_overall\n",
       "review_sentiment          1.000000        0.259532\n",
       "review_overall            0.259532        1.000000"
      ]
     },
     "execution_count": 35,
     "metadata": {},
     "output_type": "execute_result"
    }
   ],
   "source": [
    "q5 = df[df[\"beer_style\"] == \"Quadrupel (Quad)\"]\n",
    "q5[[\"review_sentiment\", \"review_overall\"]].corr()"
   ]
  },
  {
   "cell_type": "markdown",
   "id": "cf927745-283a-4663-93e6-9c500b85e0d6",
   "metadata": {},
   "source": [
    "<p>Not a very high correlation coefficient only about .26</p>"
   ]
  },
  {
   "cell_type": "code",
   "execution_count": 37,
   "id": "46a297c1-a19d-4543-9897-db07bc6464e9",
   "metadata": {},
   "outputs": [
    {
     "data": {
      "text/plain": [
       "<Axes: >"
      ]
     },
     "execution_count": 37,
     "metadata": {},
     "output_type": "execute_result"
    },
    {
     "data": {
      "image/png": "[encoded data removed]",
      "text/plain": [
       "<Figure size 640x480 with 2 Axes>"
      ]
     },
     "metadata": {},
     "output_type": "display_data"
    }
   ],
   "source": [
    "#Compared to everything else\n",
    "sns.heatmap(data=q5[[\n",
    "    \"review_sentiment\",\n",
    "    \"review_overall\",\n",
    "    \"review_appearance\",\n",
    "    \"review_aroma\",\n",
    "    \"review_taste\",\n",
    "    \"review_palette\"\n",
    "]].corr(), annot=True)"
   ]
  },
  {
   "cell_type": "markdown",
   "id": "aad470d6-9899-4871-aa28-3ca10d790d0d",
   "metadata": {},
   "source": [
    "<p>Similar to review overall, every other category has aroung a .26 correlation. This is because a the overall review better expresses the users' opinion of the beer than the written text. Combined with the face that the text sentiment rating is from the viewpoint of a computer, because the NLP model is not performing at human-level. Moreover, a user could have given a high review of the beer, but leave a rather neutral comment / text. This contributes to the low correlation coefficient. The overall gist is that the coefficient is positive, indicating that increase in the compound score is correlated with an increase in the overall review score.</p>"
   ]
  },
  {
   "cell_type": "code",
   "execution_count": null,
   "id": "54c28df6-3406-4f69-b8b1-310ee1a4f7c6",
   "metadata": {},
   "outputs": [],
   "source": []
  }
 ],
 "metadata": {
  "kernelspec": {
   "display_name": "Python 3 (ipykernel)",
   "language": "python",
   "name": "python3"
  },
  "language_info": {
   "codemirror_mode": {
    "name": "ipython",
    "version": 3
   },
   "file_extension": ".py",
   "mimetype": "text/x-python",
   "name": "python",
   "nbconvert_exporter": "python",
   "pygments_lexer": "ipython3",
   "version": "3.11.5"
  }
 },
 "nbformat": 4,
 "nbformat_minor": 5
}
